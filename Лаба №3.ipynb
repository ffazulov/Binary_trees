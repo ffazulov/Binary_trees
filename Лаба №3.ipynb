{
 "cells": [
  {
   "cell_type": "markdown",
   "id": "ca1748a9",
   "metadata": {},
   "source": [
    "# Практическое занятие №3 "
   ]
  },
  {
   "cell_type": "markdown",
   "id": "dff13888",
   "metadata": {},
   "source": [
    "1 часть"
   ]
  },
  {
   "cell_type": "code",
   "execution_count": 1,
   "id": "ee35bf52",
   "metadata": {},
   "outputs": [],
   "source": [
    "import random\n",
    "import time\n",
    "import pandas as pd\n",
    "import matplotlib.pyplot as plt"
   ]
  },
  {
   "cell_type": "code",
   "execution_count": 2,
   "id": "10f6c706",
   "metadata": {},
   "outputs": [],
   "source": [
    "class TreeNode:\n",
    "    def __init__(self, key=None):\n",
    "        self.key = key\n",
    "        self.left = None\n",
    "        self.right = None\n",
    "        \n",
    "    def __str__(self):\n",
    "        return f\"Tree({self.key})\"\n",
    "    \n",
    "    #сравнивaем добавляемое значение(key) с текущим(self.key), потому что\n",
    "    #нужно понять идти налево или направо. А если там None, то добавляем новый узел\n",
    "\n",
    "    def enter(self, key):\n",
    "        if self.key is None:\n",
    "            self.key = key\n",
    "        \n",
    "        if key < self.key:\n",
    "            if self.left is None:\n",
    "                self.left = TreeNode(key)\n",
    "            else:\n",
    "                self.left.enter(key)\n",
    "                \n",
    "        elif key >= self.key:\n",
    "            if self.right is None:\n",
    "                self.right = TreeNode(key)\n",
    "            else:\n",
    "                self.right.enter(key)\n",
    "                \n",
    "    #красиво выводим дерево\n",
    "             \n",
    "    def print_hierarchy(self, level=0):\n",
    "        print(f\"#{level} = {self.key} | left = {self.left} | right = {self.right}\")\n",
    "        \n",
    "        if self.left  is not None: \n",
    "            self.left.print_hierarchy(level+1)\n",
    "        if self.right is not None: \n",
    "            self.right.print_hierarchy(level+1)\n",
    "                "
   ]
  },
  {
   "cell_type": "code",
   "execution_count": 3,
   "id": "35ea1bbd",
   "metadata": {},
   "outputs": [],
   "source": [
    "# выводит массив из дерева от родителя до всех его потомков\n",
    "def pre_order(name_tree, mass):\n",
    "    if name_tree:\n",
    "        pre_order(name_tree.left, mass)\n",
    "        mass.append(name_tree.key)\n",
    "        pre_order(name_tree.right, mass)\n",
    "    return mass"
   ]
  },
  {
   "cell_type": "code",
   "execution_count": 4,
   "id": "3760d752",
   "metadata": {},
   "outputs": [],
   "source": [
    "#n - количество элементов, end_range - конец диапазона генерируемых чисел\n",
    "def print_tree(n, end_range):\n",
    "    tree = TreeNode()\n",
    "    for i in range(n):\n",
    "        a = random.randint(1, end_range)\n",
    "        tree.enter(a)\n",
    "    tree.print_hierarchy()\n",
    "    return tree"
   ]
  },
  {
   "cell_type": "code",
   "execution_count": 5,
   "id": "ca6612f9",
   "metadata": {},
   "outputs": [],
   "source": [
    "#создаёт дерево и преносит в масcив\n",
    "def create_tree(n, end_range):\n",
    "    tree = TreeNode()\n",
    "    for i in range(n):\n",
    "        a = random.randint(1, end_range)\n",
    "        tree.enter(a)"
   ]
  },
  {
   "cell_type": "code",
   "execution_count": 6,
   "id": "1cb109a5",
   "metadata": {
    "scrolled": true
   },
   "outputs": [
    {
     "name": "stdout",
     "output_type": "stream",
     "text": [
      "#0 = 18 | left = Tree(1) | right = Tree(18)\n",
      "#1 = 1 | left = None | right = Tree(4)\n",
      "#2 = 4 | left = None | right = Tree(13)\n",
      "#3 = 13 | left = Tree(12) | right = None\n",
      "#4 = 12 | left = Tree(10) | right = None\n",
      "#5 = 10 | left = Tree(7) | right = None\n",
      "#6 = 7 | left = Tree(6) | right = Tree(7)\n",
      "#7 = 6 | left = None | right = None\n",
      "#7 = 7 | left = None | right = None\n",
      "#1 = 18 | left = None | right = Tree(45)\n",
      "#2 = 45 | left = Tree(39) | right = None\n",
      "#3 = 39 | left = Tree(22) | right = Tree(43)\n",
      "#4 = 22 | left = Tree(19) | right = Tree(36)\n",
      "#5 = 19 | left = Tree(18) | right = None\n",
      "#6 = 18 | left = None | right = None\n",
      "#5 = 36 | left = Tree(34) | right = Tree(36)\n",
      "#6 = 34 | left = Tree(26) | right = None\n",
      "#7 = 26 | left = Tree(23) | right = Tree(33)\n",
      "#8 = 23 | left = None | right = None\n",
      "#8 = 33 | left = Tree(28) | right = None\n",
      "#9 = 28 | left = None | right = None\n",
      "#6 = 36 | left = None | right = Tree(38)\n",
      "#7 = 38 | left = Tree(37) | right = None\n",
      "#8 = 37 | left = None | right = None\n",
      "#4 = 43 | left = Tree(39) | right = None\n",
      "#5 = 39 | left = None | right = None\n"
     ]
    }
   ],
   "source": [
    "tree = print_tree(25, 50)"
   ]
  },
  {
   "cell_type": "code",
   "execution_count": 7,
   "id": "1a3bfc27",
   "metadata": {},
   "outputs": [
    {
     "data": {
      "text/plain": [
       "[1,\n",
       " 4,\n",
       " 6,\n",
       " 7,\n",
       " 7,\n",
       " 10,\n",
       " 12,\n",
       " 13,\n",
       " 18,\n",
       " 18,\n",
       " 18,\n",
       " 19,\n",
       " 22,\n",
       " 23,\n",
       " 26,\n",
       " 28,\n",
       " 33,\n",
       " 34,\n",
       " 36,\n",
       " 36,\n",
       " 37,\n",
       " 38,\n",
       " 39,\n",
       " 39,\n",
       " 43,\n",
       " 45]"
      ]
     },
     "execution_count": 7,
     "metadata": {},
     "output_type": "execute_result"
    }
   ],
   "source": [
    "mass = []\n",
    "pre_order(tree, mass)"
   ]
  },
  {
   "cell_type": "code",
   "execution_count": 52,
   "id": "37cb0da0",
   "metadata": {},
   "outputs": [
    {
     "data": {
      "text/html": [
       "<div>\n",
       "<style scoped>\n",
       "    .dataframe tbody tr th:only-of-type {\n",
       "        vertical-align: middle;\n",
       "    }\n",
       "\n",
       "    .dataframe tbody tr th {\n",
       "        vertical-align: top;\n",
       "    }\n",
       "\n",
       "    .dataframe thead th {\n",
       "        text-align: right;\n",
       "    }\n",
       "</style>\n",
       "<table border=\"1\" class=\"dataframe\">\n",
       "  <thead>\n",
       "    <tr style=\"text-align: right;\">\n",
       "      <th></th>\n",
       "      <th>количество элементов дерева/массива</th>\n",
       "      <th>диапазон чисел</th>\n",
       "      <th>время работы алгоритма с деревом</th>\n",
       "      <th>время работы алгоритма с массивом</th>\n",
       "    </tr>\n",
       "  </thead>\n",
       "  <tbody>\n",
       "  </tbody>\n",
       "</table>\n",
       "</div>"
      ],
      "text/plain": [
       "Empty DataFrame\n",
       "Columns: [количество элементов дерева/массива, диапазон чисел, время работы алгоритма с деревом, время работы алгоритма с массивом]\n",
       "Index: []"
      ]
     },
     "execution_count": 52,
     "metadata": {},
     "output_type": "execute_result"
    }
   ],
   "source": [
    "df = pd.DataFrame(columns=[\"количество элементов дерева/массива\", \"диапазон чисел\", \"время работы алгоритма с деревом\", \"время работы алгоритма с массивом\"])\n",
    "df"
   ]
  },
  {
   "cell_type": "code",
   "execution_count": 53,
   "id": "4179da6e",
   "metadata": {},
   "outputs": [
    {
     "data": {
      "text/html": [
       "<div>\n",
       "<style scoped>\n",
       "    .dataframe tbody tr th:only-of-type {\n",
       "        vertical-align: middle;\n",
       "    }\n",
       "\n",
       "    .dataframe tbody tr th {\n",
       "        vertical-align: top;\n",
       "    }\n",
       "\n",
       "    .dataframe thead th {\n",
       "        text-align: right;\n",
       "    }\n",
       "</style>\n",
       "<table border=\"1\" class=\"dataframe\">\n",
       "  <thead>\n",
       "    <tr style=\"text-align: right;\">\n",
       "      <th></th>\n",
       "      <th>количество элементов дерева/массива</th>\n",
       "      <th>диапазон чисел</th>\n",
       "      <th>время работы алгоритма с деревом</th>\n",
       "      <th>время работы алгоритма с массивом</th>\n",
       "    </tr>\n",
       "  </thead>\n",
       "  <tbody>\n",
       "    <tr>\n",
       "      <th>0</th>\n",
       "      <td>1000</td>\n",
       "      <td>от 1 до 500</td>\n",
       "      <td>NaN</td>\n",
       "      <td>NaN</td>\n",
       "    </tr>\n",
       "    <tr>\n",
       "      <th>1</th>\n",
       "      <td>1000</td>\n",
       "      <td>от 1 до 10000</td>\n",
       "      <td>NaN</td>\n",
       "      <td>NaN</td>\n",
       "    </tr>\n",
       "    <tr>\n",
       "      <th>2</th>\n",
       "      <td>5000</td>\n",
       "      <td>от 1 до 500</td>\n",
       "      <td>NaN</td>\n",
       "      <td>NaN</td>\n",
       "    </tr>\n",
       "    <tr>\n",
       "      <th>3</th>\n",
       "      <td>5000</td>\n",
       "      <td>от 1 до 10000</td>\n",
       "      <td>NaN</td>\n",
       "      <td>NaN</td>\n",
       "    </tr>\n",
       "    <tr>\n",
       "      <th>4</th>\n",
       "      <td>10000</td>\n",
       "      <td>от 1 до 500</td>\n",
       "      <td>NaN</td>\n",
       "      <td>NaN</td>\n",
       "    </tr>\n",
       "    <tr>\n",
       "      <th>5</th>\n",
       "      <td>10000</td>\n",
       "      <td>от 1 до 10000</td>\n",
       "      <td>NaN</td>\n",
       "      <td>NaN</td>\n",
       "    </tr>\n",
       "  </tbody>\n",
       "</table>\n",
       "</div>"
      ],
      "text/plain": [
       "  количество элементов дерева/массива диапазон чисел  \\\n",
       "0                                1000    от 1 до 500   \n",
       "1                                1000  от 1 до 10000   \n",
       "2                                5000    от 1 до 500   \n",
       "3                                5000  от 1 до 10000   \n",
       "4                               10000    от 1 до 500   \n",
       "5                               10000  от 1 до 10000   \n",
       "\n",
       "  время работы алгоритма с деревом время работы алгоритма с массивом  \n",
       "0                              NaN                               NaN  \n",
       "1                              NaN                               NaN  \n",
       "2                              NaN                               NaN  \n",
       "3                              NaN                               NaN  \n",
       "4                              NaN                               NaN  \n",
       "5                              NaN                               NaN  "
      ]
     },
     "execution_count": 53,
     "metadata": {},
     "output_type": "execute_result"
    }
   ],
   "source": [
    "a = [1000, 1000, 5000, 5000, 10000, 10000]\n",
    "\n",
    "for i in range(len(a)):\n",
    "    df.loc[i,'количество элементов дерева/массива'] = a[i]\n",
    "    \n",
    "    if i % 2 == 0:\n",
    "        df.loc[i,'диапазон чисел'] = \"от 1 до 500\"\n",
    "    else:\n",
    "        df.loc[i,'диапазон чисел'] = \"от 1 до 10000\"\n",
    "df\n",
    "    "
   ]
  },
  {
   "cell_type": "code",
   "execution_count": 54,
   "id": "271435b5",
   "metadata": {},
   "outputs": [],
   "source": [
    "time500 =[]\n",
    "mass=[]\n",
    "tree = create_tree(1000, 500)\n",
    "start = time.perf_counter()\n",
    "pre_order(tree, mass)\n",
    "df.loc[0,\"время работы алгоритма с деревом\"] = time.perf_counter()-start\n",
    "time500.append(time.perf_counter()-start)"
   ]
  },
  {
   "cell_type": "code",
   "execution_count": 55,
   "id": "ac26c760",
   "metadata": {},
   "outputs": [],
   "source": [
    "time1000 =[]\n",
    "mass=[]\n",
    "tree = create_tree(1000, 10000)\n",
    "start = time.perf_counter()\n",
    "pre_order(tree, mass)\n",
    "df.loc[1,\"время работы алгоритма с деревом\"] = time.perf_counter()-start\n",
    "time1000.append(time.perf_counter()-start)"
   ]
  },
  {
   "cell_type": "code",
   "execution_count": 56,
   "id": "7b1e3e7d",
   "metadata": {},
   "outputs": [],
   "source": [
    "mass=[]\n",
    "tree = create_tree(5000, 500)\n",
    "start = time.perf_counter()\n",
    "pre_order(tree, mass)\n",
    "df.loc[2,\"время работы алгоритма с деревом\"] = time.perf_counter()-start\n",
    "time500.append(time.perf_counter()-start)"
   ]
  },
  {
   "cell_type": "code",
   "execution_count": 57,
   "id": "730614f2",
   "metadata": {},
   "outputs": [],
   "source": [
    "mass=[]\n",
    "tree = create_tree(5000, 10000)\n",
    "start = time.perf_counter()\n",
    "pre_order(tree, mass)\n",
    "df.loc[3,\"время работы алгоритма с деревом\"] = time.perf_counter()-start\n",
    "time1000.append(time.perf_counter()-start)"
   ]
  },
  {
   "cell_type": "code",
   "execution_count": 58,
   "id": "aea792f1",
   "metadata": {},
   "outputs": [],
   "source": [
    "mass=[]\n",
    "tree = create_tree(10000, 500)\n",
    "start = time.perf_counter()\n",
    "pre_order(tree, mass)\n",
    "df.loc[4,\"время работы алгоритма с деревом\"] = time.perf_counter()-start\n",
    "time500.append(time.perf_counter()-start)"
   ]
  },
  {
   "cell_type": "code",
   "execution_count": 59,
   "id": "65b156d7",
   "metadata": {},
   "outputs": [
    {
     "data": {
      "text/html": [
       "<div>\n",
       "<style scoped>\n",
       "    .dataframe tbody tr th:only-of-type {\n",
       "        vertical-align: middle;\n",
       "    }\n",
       "\n",
       "    .dataframe tbody tr th {\n",
       "        vertical-align: top;\n",
       "    }\n",
       "\n",
       "    .dataframe thead th {\n",
       "        text-align: right;\n",
       "    }\n",
       "</style>\n",
       "<table border=\"1\" class=\"dataframe\">\n",
       "  <thead>\n",
       "    <tr style=\"text-align: right;\">\n",
       "      <th></th>\n",
       "      <th>количество элементов дерева/массива</th>\n",
       "      <th>диапазон чисел</th>\n",
       "      <th>время работы алгоритма с деревом</th>\n",
       "      <th>время работы алгоритма с массивом</th>\n",
       "    </tr>\n",
       "  </thead>\n",
       "  <tbody>\n",
       "    <tr>\n",
       "      <th>0</th>\n",
       "      <td>1000</td>\n",
       "      <td>от 1 до 500</td>\n",
       "      <td>0.000269</td>\n",
       "      <td>NaN</td>\n",
       "    </tr>\n",
       "    <tr>\n",
       "      <th>1</th>\n",
       "      <td>1000</td>\n",
       "      <td>от 1 до 10000</td>\n",
       "      <td>0.000208</td>\n",
       "      <td>NaN</td>\n",
       "    </tr>\n",
       "    <tr>\n",
       "      <th>2</th>\n",
       "      <td>5000</td>\n",
       "      <td>от 1 до 500</td>\n",
       "      <td>0.00036</td>\n",
       "      <td>NaN</td>\n",
       "    </tr>\n",
       "    <tr>\n",
       "      <th>3</th>\n",
       "      <td>5000</td>\n",
       "      <td>от 1 до 10000</td>\n",
       "      <td>0.000155</td>\n",
       "      <td>NaN</td>\n",
       "    </tr>\n",
       "    <tr>\n",
       "      <th>4</th>\n",
       "      <td>10000</td>\n",
       "      <td>от 1 до 500</td>\n",
       "      <td>0.000211</td>\n",
       "      <td>NaN</td>\n",
       "    </tr>\n",
       "    <tr>\n",
       "      <th>5</th>\n",
       "      <td>10000</td>\n",
       "      <td>от 1 до 10000</td>\n",
       "      <td>0.000217</td>\n",
       "      <td>NaN</td>\n",
       "    </tr>\n",
       "  </tbody>\n",
       "</table>\n",
       "</div>"
      ],
      "text/plain": [
       "  количество элементов дерева/массива диапазон чисел  \\\n",
       "0                                1000    от 1 до 500   \n",
       "1                                1000  от 1 до 10000   \n",
       "2                                5000    от 1 до 500   \n",
       "3                                5000  от 1 до 10000   \n",
       "4                               10000    от 1 до 500   \n",
       "5                               10000  от 1 до 10000   \n",
       "\n",
       "  время работы алгоритма с деревом время работы алгоритма с массивом  \n",
       "0                         0.000269                               NaN  \n",
       "1                         0.000208                               NaN  \n",
       "2                          0.00036                               NaN  \n",
       "3                         0.000155                               NaN  \n",
       "4                         0.000211                               NaN  \n",
       "5                         0.000217                               NaN  "
      ]
     },
     "execution_count": 59,
     "metadata": {},
     "output_type": "execute_result"
    }
   ],
   "source": [
    "mass=[]\n",
    "tree = create_tree(10000, 10000)\n",
    "start = time.perf_counter()\n",
    "pre_order(tree, mass)\n",
    "df.loc[5,\"время работы алгоритма с деревом\"] = time.perf_counter()-start\n",
    "time1000.append(time.perf_counter()-start)\n",
    "df"
   ]
  },
  {
   "cell_type": "code",
   "execution_count": 60,
   "id": "9aa37dc2",
   "metadata": {},
   "outputs": [
    {
     "data": {
      "image/png": "[encoded data removed]",
      "text/plain": [
       "<Figure size 432x288 with 1 Axes>"
      ]
     },
     "metadata": {
      "needs_background": "light"
     },
     "output_type": "display_data"
    }
   ],
   "source": [
    "plt.plot([1000, 5000,  10000] , time500)\n",
    "plt.show()"
   ]
  },
  {
   "cell_type": "code",
   "execution_count": 61,
   "id": "2286218f",
   "metadata": {},
   "outputs": [
    {
     "data": {
      "image/png": "[encoded data removed]",
      "text/plain": [
       "<Figure size 432x288 with 1 Axes>"
      ]
     },
     "metadata": {
      "needs_background": "light"
     },
     "output_type": "display_data"
    }
   ],
   "source": [
    "plt.plot([1000, 5000,  10000] , time1000)\n",
    "plt.show()"
   ]
  },
  {
   "cell_type": "code",
   "execution_count": 62,
   "id": "00143312",
   "metadata": {},
   "outputs": [],
   "source": [
    "#n - количество элементов, end_range - конец диапазона генерируемых чисел\n",
    "def gen_mass(n, end_range):\n",
    "    return [random.randint(1, end_range) for i in range(n)] "
   ]
  },
  {
   "cell_type": "code",
   "execution_count": 63,
   "id": "ee3345f3",
   "metadata": {},
   "outputs": [],
   "source": [
    "time500 =[]\n",
    "start = time.perf_counter()\n",
    "sorted(gen_mass(1000, 500))\n",
    "df.loc[0,\"время работы алгоритма с массивом\"] = time.perf_counter()-start\n",
    "time500.append(time.perf_counter()-start)"
   ]
  },
  {
   "cell_type": "code",
   "execution_count": 64,
   "id": "db35710c",
   "metadata": {},
   "outputs": [],
   "source": [
    "time1000 =[]\n",
    "start = time.perf_counter()\n",
    "sorted(gen_mass(1000, 10000))\n",
    "df.loc[1,\"время работы алгоритма с массивом\"] = time.perf_counter()-start\n",
    "time1000.append(time.perf_counter()-start)"
   ]
  },
  {
   "cell_type": "code",
   "execution_count": 65,
   "id": "a86e2b77",
   "metadata": {},
   "outputs": [],
   "source": [
    "start = time.perf_counter()\n",
    "sorted(gen_mass(5000, 500))\n",
    "df.loc[2,\"время работы алгоритма с массивом\"] = time.perf_counter()-start\n",
    "time500.append(time.perf_counter()-start)"
   ]
  },
  {
   "cell_type": "code",
   "execution_count": 66,
   "id": "ddc339a5",
   "metadata": {},
   "outputs": [],
   "source": [
    "start = time.perf_counter()\n",
    "sorted(gen_mass(5000, 10000))\n",
    "df.loc[3,\"время работы алгоритма с массивом\"] = time.perf_counter()-start\n",
    "time1000.append(time.perf_counter()-start)"
   ]
  },
  {
   "cell_type": "code",
   "execution_count": 67,
   "id": "57406d82",
   "metadata": {},
   "outputs": [],
   "source": [
    "start = time.perf_counter()\n",
    "sorted(gen_mass(10000, 500))\n",
    "df.loc[4,\"время работы алгоритма с массивом\"] = time.perf_counter()-start\n",
    "time500.append(time.perf_counter()-start)"
   ]
  },
  {
   "cell_type": "code",
   "execution_count": 68,
   "id": "dfebd9ee",
   "metadata": {},
   "outputs": [
    {
     "data": {
      "text/html": [
       "<div>\n",
       "<style scoped>\n",
       "    .dataframe tbody tr th:only-of-type {\n",
       "        vertical-align: middle;\n",
       "    }\n",
       "\n",
       "    .dataframe tbody tr th {\n",
       "        vertical-align: top;\n",
       "    }\n",
       "\n",
       "    .dataframe thead th {\n",
       "        text-align: right;\n",
       "    }\n",
       "</style>\n",
       "<table border=\"1\" class=\"dataframe\">\n",
       "  <thead>\n",
       "    <tr style=\"text-align: right;\">\n",
       "      <th></th>\n",
       "      <th>количество элементов дерева/массива</th>\n",
       "      <th>диапазон чисел</th>\n",
       "      <th>время работы алгоритма с деревом</th>\n",
       "      <th>время работы алгоритма с массивом</th>\n",
       "    </tr>\n",
       "  </thead>\n",
       "  <tbody>\n",
       "    <tr>\n",
       "      <th>0</th>\n",
       "      <td>1000</td>\n",
       "      <td>от 1 до 500</td>\n",
       "      <td>0.000269</td>\n",
       "      <td>0.003787</td>\n",
       "    </tr>\n",
       "    <tr>\n",
       "      <th>1</th>\n",
       "      <td>1000</td>\n",
       "      <td>от 1 до 10000</td>\n",
       "      <td>0.000208</td>\n",
       "      <td>0.002673</td>\n",
       "    </tr>\n",
       "    <tr>\n",
       "      <th>2</th>\n",
       "      <td>5000</td>\n",
       "      <td>от 1 до 500</td>\n",
       "      <td>0.00036</td>\n",
       "      <td>0.009588</td>\n",
       "    </tr>\n",
       "    <tr>\n",
       "      <th>3</th>\n",
       "      <td>5000</td>\n",
       "      <td>от 1 до 10000</td>\n",
       "      <td>0.000155</td>\n",
       "      <td>0.027521</td>\n",
       "    </tr>\n",
       "    <tr>\n",
       "      <th>4</th>\n",
       "      <td>10000</td>\n",
       "      <td>от 1 до 500</td>\n",
       "      <td>0.000211</td>\n",
       "      <td>0.043275</td>\n",
       "    </tr>\n",
       "    <tr>\n",
       "      <th>5</th>\n",
       "      <td>10000</td>\n",
       "      <td>от 1 до 10000</td>\n",
       "      <td>0.000217</td>\n",
       "      <td>0.069131</td>\n",
       "    </tr>\n",
       "  </tbody>\n",
       "</table>\n",
       "</div>"
      ],
      "text/plain": [
       "  количество элементов дерева/массива диапазон чисел  \\\n",
       "0                                1000    от 1 до 500   \n",
       "1                                1000  от 1 до 10000   \n",
       "2                                5000    от 1 до 500   \n",
       "3                                5000  от 1 до 10000   \n",
       "4                               10000    от 1 до 500   \n",
       "5                               10000  от 1 до 10000   \n",
       "\n",
       "  время работы алгоритма с деревом время работы алгоритма с массивом  \n",
       "0                         0.000269                          0.003787  \n",
       "1                         0.000208                          0.002673  \n",
       "2                          0.00036                          0.009588  \n",
       "3                         0.000155                          0.027521  \n",
       "4                         0.000211                          0.043275  \n",
       "5                         0.000217                          0.069131  "
      ]
     },
     "execution_count": 68,
     "metadata": {},
     "output_type": "execute_result"
    }
   ],
   "source": [
    "start = time.perf_counter()\n",
    "sorted(gen_mass(10000, 10000))\n",
    "df.loc[5,\"время работы алгоритма с массивом\"] = time.perf_counter()-start\n",
    "time1000.append(time.perf_counter()-start)\n",
    "df"
   ]
  },
  {
   "cell_type": "code",
   "execution_count": 69,
   "id": "eaa7f2ba",
   "metadata": {},
   "outputs": [
    {
     "data": {
      "image/png": "[encoded data removed]",
      "text/plain": [
       "<Figure size 432x288 with 1 Axes>"
      ]
     },
     "metadata": {
      "needs_background": "light"
     },
     "output_type": "display_data"
    }
   ],
   "source": [
    "plt.plot([1000, 5000,  10000] , time500)\n",
    "plt.show()"
   ]
  },
  {
   "cell_type": "code",
   "execution_count": 70,
   "id": "d2b1dabd",
   "metadata": {},
   "outputs": [
    {
     "data": {
      "image/png": "[encoded data removed]",
      "text/plain": [
       "<Figure size 432x288 with 1 Axes>"
      ]
     },
     "metadata": {
      "needs_background": "light"
     },
     "output_type": "display_data"
    }
   ],
   "source": [
    "plt.plot([1000, 5000,  10000] , time1000)\n",
    "plt.show()"
   ]
  },
  {
   "cell_type": "markdown",
   "id": "8f0fe090",
   "metadata": {},
   "source": [
    "2 часть"
   ]
  },
  {
   "cell_type": "code",
   "execution_count": 24,
   "id": "21b5750b",
   "metadata": {},
   "outputs": [
    {
     "name": "stdout",
     "output_type": "stream",
     "text": [
      "#0 = 11 | left = None | right = Tree(11)\n",
      "#1 = 11 | left = None | right = Tree(20)\n",
      "#2 = 20 | left = Tree(17) | right = None\n",
      "#3 = 17 | left = None | right = Tree(18)\n",
      "#4 = 18 | left = None | right = Tree(18)\n",
      "#5 = 18 | left = None | right = None\n"
     ]
    }
   ],
   "source": [
    "tree = TreeNode()\n",
    "for i in range(5):\n",
    "    a = random.randint(1, 20)\n",
    "    tree.enter(a)\n",
    "tree.print_hierarchy()"
   ]
  },
  {
   "cell_type": "code",
   "execution_count": 9,
   "id": "54816d70",
   "metadata": {},
   "outputs": [],
   "source": [
    "#функция определяет максимальную высоту дерева\n",
    "def height(name_tree):\n",
    "    if not name_tree:\n",
    "        return 0\n",
    "    \n",
    "    left_height = height(name_tree.left) \n",
    "    right_height = height(name_tree.right) \n",
    "    return max(left_height, right_height) + 1"
   ]
  },
  {
   "cell_type": "code",
   "execution_count": 11,
   "id": "8fe3cfa9",
   "metadata": {},
   "outputs": [
    {
     "data": {
      "text/plain": [
       "10"
      ]
     },
     "execution_count": 11,
     "metadata": {},
     "output_type": "execute_result"
    }
   ],
   "source": [
    "height(tree)"
   ]
  },
  {
   "cell_type": "code",
   "execution_count": 36,
   "id": "1249ccd1",
   "metadata": {},
   "outputs": [],
   "source": [
    "def delete(root, key):\n",
    "    old_lenght = []\n",
    "    old_lenght = len(pre_order(root, old_lenght))\n",
    "    lenght_past_delete = []\n",
    "    root = deleteNode(root, key)\n",
    "    lenght_past_delete = len(pre_order(root, lenght_past_delete))\n",
    "    \n",
    "    if old_lenght == lenght_past_delete:\n",
    "        print(\"Такого элемента нет\")\n",
    "        return root\n",
    "    \n",
    "    while old_lenght != lenght_past_delete:\n",
    "        old_lenght = []\n",
    "        old_lenght = len(pre_order(root, old_lenght))\n",
    "        lenght_past_delete = []\n",
    "        root = deleteNode(root, key)\n",
    "        lenght_past_delete = len(pre_order(root, lenght_past_delete))\n",
    "    \n",
    "        \n",
    "    return root\n",
    "\n",
    "\n",
    "\n",
    "def minValueNode(node):\n",
    "    current = node\n",
    "  \n",
    "    while(current.left is not None):\n",
    "        current = current.left\n",
    "  \n",
    "    return current\n",
    "\n",
    "def deleteNode(root, key):\n",
    "\n",
    "    if root is None:\n",
    "        return root\n",
    "\n",
    "    if key < root.key:\n",
    "        root.left = deleteNode(root.left, key)\n",
    "\n",
    "    elif(key > root.key):\n",
    "        root.right = deleteNode(root.right, key)\n",
    "\n",
    "    else:\n",
    "        if root.left is None:\n",
    "            temp = root.right\n",
    "            root = None\n",
    "            return temp\n",
    "\n",
    "        elif root.right is None:\n",
    "            temp = root.left\n",
    "            root = None\n",
    "            return temp\n",
    "\n",
    "        temp = minValueNode(root.right)\n",
    "\n",
    "        root.key = temp.key\n",
    "\n",
    "        root.right = deleteNode(root.right, temp.key)\n",
    "\n",
    "    return root"
   ]
  },
  {
   "cell_type": "code",
   "execution_count": 37,
   "id": "553aff6e",
   "metadata": {},
   "outputs": [
    {
     "name": "stdout",
     "output_type": "stream",
     "text": [
      "#0 = 11 | left = None | right = Tree(11)\n",
      "#1 = 11 | left = None | right = Tree(20)\n",
      "#2 = 20 | left = Tree(17) | right = None\n",
      "#3 = 17 | left = None | right = Tree(18)\n",
      "#4 = 18 | left = None | right = Tree(18)\n",
      "#5 = 18 | left = None | right = None\n"
     ]
    }
   ],
   "source": [
    "tree.print_hierarchy()\n"
   ]
  },
  {
   "cell_type": "code",
   "execution_count": 38,
   "id": "82bd937b",
   "metadata": {},
   "outputs": [
    {
     "name": "stdout",
     "output_type": "stream",
     "text": [
      "5 4\n",
      "4 4\n",
      "#0 = 20 | left = Tree(17) | right = None\n",
      "#1 = 17 | left = None | right = Tree(18)\n",
      "#2 = 18 | left = None | right = Tree(18)\n",
      "#3 = 18 | left = None | right = None\n"
     ]
    }
   ],
   "source": [
    "x = 11\n",
    "\n",
    "tree = delete(tree, x)\n",
    "tree.print_hierarchy()"
   ]
  },
  {
   "cell_type": "code",
   "execution_count": null,
   "id": "b7b48bdf",
   "metadata": {},
   "outputs": [],
   "source": []
  },
  {
   "cell_type": "code",
   "execution_count": null,
   "id": "346bc7e8",
   "metadata": {},
   "outputs": [],
   "source": []
  },
  {
   "cell_type": "code",
   "execution_count": null,
   "id": "8c0de851",
   "metadata": {},
   "outputs": [],
   "source": []
  },
  {
   "cell_type": "code",
   "execution_count": null,
   "id": "5ec06abe",
   "metadata": {},
   "outputs": [],
   "source": []
  }
 ],
 "metadata": {
  "kernelspec": {
   "display_name": "Python 3 (ipykernel)",
   "language": "python",
   "name": "python3"
  },
  "language_info": {
   "codemirror_mode": {
    "name": "ipython",
    "version": 3
   },
   "file_extension": ".py",
   "mimetype": "text/x-python",
   "name": "python",
   "nbconvert_exporter": "python",
   "pygments_lexer": "ipython3",
   "version": "3.9.7"
  }
 },
 "nbformat": 4,
 "nbformat_minor": 5
}
